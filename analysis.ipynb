{
 "cells": [
  {
   "cell_type": "code",
   "execution_count": 13,
   "metadata": {},
   "outputs": [],
   "source": [
    "import pandas as pd\n",
    "import statsmodels.api as sm\n",
    "\n",
    "users_df = pd.read_csv('users.csv')\n",
    "repos_df = pd.read_csv('repositories.csv')"
   ]
  },
  {
   "cell_type": "code",
   "execution_count": 2,
   "metadata": {},
   "outputs": [
    {
     "name": "stdout",
     "output_type": "stream",
     "text": [
      "Top 5 users by followers: dennybritz, wasabeef, dai-shi, rui314, domenic\n"
     ]
    }
   ],
   "source": [
    "# Sort by 'followers' in descending order\n",
    "top_users = users_df.sort_values(by='followers', ascending=False).head(5)\n",
    "\n",
    "# Get the 'login' of the top 5 users as a comma-separated string\n",
    "top_5_logins = \", \".join(top_users['login'].tolist())\n",
    "print(\"Top 5 users by followers:\", top_5_logins)"
   ]
  },
  {
   "cell_type": "code",
   "execution_count": 3,
   "metadata": {},
   "outputs": [
    {
     "name": "stdout",
     "output_type": "stream",
     "text": [
      "Ans 2: 5 earliest registered GitHub users: kana, kakutani, mootoh, lhl, walf443\n"
     ]
    }
   ],
   "source": [
    "# 2. 5 earliest registered GitHub users in Tokyo\n",
    "earliest_users_five_tokyo = users_df.sort_values(by='created_at', ascending=True).head(5)['login'].tolist()\n",
    "print(\"Ans 2: 5 earliest registered GitHub users:\", \", \".join(earliest_users_five_tokyo))"
   ]
  },
  {
   "cell_type": "code",
   "execution_count": 4,
   "metadata": {},
   "outputs": [
    {
     "name": "stdout",
     "output_type": "stream",
     "text": [
      "Ans 3 : Top 3 most popular licenses: mit, apache-2.0, other\n"
     ]
    }
   ],
   "source": [
    "# 3. 3 most popular licenses among these users\n",
    "repos_with_license = repos_df[repos_df['license_name'].notnull()]\n",
    "top_3_licenses = repos_with_license['license_name'].value_counts().head(3).index.tolist()\n",
    "print(\"Ans 3 : Top 3 most popular licenses:\", \", \".join(top_3_licenses))"
   ]
  },
  {
   "cell_type": "code",
   "execution_count": 5,
   "metadata": {},
   "outputs": [
    {
     "name": "stdout",
     "output_type": "stream",
     "text": [
      "Majority of these developers work at: GOOGLE\n"
     ]
    }
   ],
   "source": [
    "# 4. Which company do the majority of these developers work at?\n",
    "users_with_company = users_df[users_df['company'].notnull()].copy()  \n",
    "users_with_company.loc[:, 'company'] = users_with_company['company'].str.strip().str.lstrip('@').str.upper()\n",
    "most_common_company = users_with_company['company'].value_counts().idxmax()\n",
    "print(\"Majority of these developers work at:\", most_common_company)"
   ]
  },
  {
   "cell_type": "code",
   "execution_count": 6,
   "metadata": {},
   "outputs": [
    {
     "name": "stdout",
     "output_type": "stream",
     "text": [
      "Ans 5 : Most popular programming language: JavaScript\n"
     ]
    }
   ],
   "source": [
    "# 5. Which programming language is most popular among these users?\n",
    "repos_with_language = repos_df[repos_df['language'].notnull()]\n",
    "most_common_language = repos_with_language['language'].value_counts().idxmax()\n",
    "print(\"Ans 5 : Most popular programming language:\", most_common_language)"
   ]
  },
  {
   "cell_type": "code",
   "execution_count": 7,
   "metadata": {},
   "outputs": [
    {
     "name": "stdout",
     "output_type": "stream",
     "text": [
      "Ans 6 : Second most popular language among users who joined after 2020: Rust\n"
     ]
    }
   ],
   "source": [
    "# 6. Which programming language is the second most popular among users who joined after 2020?\n",
    "users_df['created_at'] = pd.to_datetime(users_df['created_at'], utc=True)  \n",
    "comparison_date = pd.to_datetime('2020-01-01').tz_localize('UTC')\n",
    "users_after_2020 = users_df[users_df['created_at'] > comparison_date]\n",
    "second_most_common_language = repos_df[repos_df['language'].notnull() & repos_df['login'].isin(users_after_2020['login'])]['language'].value_counts().nlargest(2).idxmin()\n",
    "print(\"Ans 6 : Second most popular language among users who joined after 2020:\", second_most_common_language)"
   ]
  },
  {
   "cell_type": "code",
   "execution_count": 8,
   "metadata": {},
   "outputs": [
    {
     "name": "stdout",
     "output_type": "stream",
     "text": [
      "Ans 7 : Language with the highest average number of stars per repository: Assembly\n"
     ]
    }
   ],
   "source": [
    "# 7. Which language has the highest average number of stars per repository?\n",
    "avg_stars_per_language = repos_df.groupby('language')['stargazers_count'].mean().idxmax()\n",
    "print(\"Ans 7 : Language with the highest average number of stars per repository:\", avg_stars_per_language)"
   ]
  },
  {
   "cell_type": "code",
   "execution_count": 9,
   "metadata": {},
   "outputs": [
    {
     "name": "stdout",
     "output_type": "stream",
     "text": [
      "Ans 8 : Top 5 users in terms of leader_strength: blueimp, dai-shi, asahilina, pilcrowonpaper, marcan\n"
     ]
    }
   ],
   "source": [
    "# 8. Define leader_strength as followers / (1 + following). Top 5 in terms of leader_strength\n",
    "users_df['leader_strength'] = users_df['followers'] / (1 + users_df['following'])\n",
    "top_5_leader_strength = users_df.sort_values(by='leader_strength', ascending=False).head(5)['login'].tolist()\n",
    "print(\"Ans 8 : Top 5 users in terms of leader_strength:\", \", \".join(top_5_leader_strength))"
   ]
  },
  {
   "cell_type": "code",
   "execution_count": 12,
   "metadata": {},
   "outputs": [
    {
     "name": "stdout",
     "output_type": "stream",
     "text": [
      "Ans 9 : Correlation between followers and repos: 0.05\n"
     ]
    }
   ],
   "source": [
    "# 9. Correlation between the number of followers and the number of public repositories\n",
    "correlation = users_df['followers'].corr(users_df['public_repos'])\n",
    "print(\"Ans 9 : Correlation between followers and repos:\", round(correlation, 3))"
   ]
  },
  {
   "cell_type": "code",
   "execution_count": 14,
   "metadata": {},
   "outputs": [
    {
     "name": "stdout",
     "output_type": "stream",
     "text": [
      "Ans 10 : Regression slope of followers on repos: 0.272\n"
     ]
    }
   ],
   "source": [
    "# 10. Regression to estimate additional followers per additional public repository\n",
    "X = users_df['public_repos']\n",
    "y = users_df['followers']\n",
    "X = sm.add_constant(X) \n",
    "model = sm.OLS(y, X).fit()\n",
    "slope = model.params.iloc[1] \n",
    "print(\"Ans 10 : Regression slope of followers on repos:\", round(slope, 3))"
   ]
  },
  {
   "cell_type": "code",
   "execution_count": 15,
   "metadata": {},
   "outputs": [
    {
     "name": "stdout",
     "output_type": "stream",
     "text": [
      "Ans 11 : Correlation between projects_enabled and wiki_enabled: 0.38\n"
     ]
    }
   ],
   "source": [
    "# 11. Correlation between projects_enabled and wiki_enabled\n",
    "correlation_projects_wiki = repos_df['has_projects'].astype(int).corr(repos_df['has_wiki'].astype(int))\n",
    "print(\"Ans 11 : Correlation between projects_enabled and wiki_enabled:\", round(correlation_projects_wiki, 3))"
   ]
  },
  {
   "cell_type": "code",
   "execution_count": 16,
   "metadata": {},
   "outputs": [
    {
     "name": "stdout",
     "output_type": "stream",
     "text": [
      "Ans 12: Average following difference (hireable - non-hireable): nan\n"
     ]
    }
   ],
   "source": [
    "# 12. Average following difference for hireable users\n",
    "average_following_hireable = users_df[users_df['hireable'] == True]['following'].mean()\n",
    "average_following_non_hireable = users_df[users_df['hireable'] == False]['following'].mean()\n",
    "following_difference = average_following_hireable - average_following_non_hireable\n",
    "print(f\"Ans 12: Average following difference (hireable - non-hireable): {following_difference:.3f}\")"
   ]
  },
  {
   "cell_type": "code",
   "execution_count": 17,
   "metadata": {},
   "outputs": [
    {
     "name": "stdout",
     "output_type": "stream",
     "text": [
      "Ans 13 : Correlation of bio length with followers: 0.087\n"
     ]
    }
   ],
   "source": [
    "# 13. Regression slope of followers on bio length\n",
    "users_df['bio_length'] = users_df['bio'].str.len() \n",
    "bio_length_correlation = users_df[users_df['bio'].notna()]['bio_length'].corr(users_df['followers'])\n",
    "print(f\"Ans 13 : Correlation of bio length with followers: {bio_length_correlation:.3f}\")"
   ]
  },
  {
   "cell_type": "code",
   "execution_count": 18,
   "metadata": {},
   "outputs": [
    {
     "name": "stdout",
     "output_type": "stream",
     "text": [
      "                            OLS Regression Results                            \n",
      "==============================================================================\n",
      "Dep. Variable:              followers   R-squared:                       0.008\n",
      "Model:                            OLS   Adj. R-squared:                  0.005\n",
      "Method:                 Least Squares   F-statistic:                     2.910\n",
      "Date:                Thu, 31 Oct 2024   Prob (F-statistic):             0.0889\n",
      "Time:                        12:23:45   Log-Likelihood:                -3170.0\n",
      "No. Observations:                 380   AIC:                             6344.\n",
      "Df Residuals:                     378   BIC:                             6352.\n",
      "Df Model:                           1                                         \n",
      "Covariance Type:            nonrobust                                         \n",
      "==============================================================================\n",
      "                 coef    std err          t      P>|t|      [0.025      0.975]\n",
      "------------------------------------------------------------------------------\n",
      "const        538.6199     90.320      5.963      0.000     361.027     716.213\n",
      "bio_length     2.1910      1.284      1.706      0.089      -0.335       4.717\n",
      "==============================================================================\n",
      "Omnibus:                      424.564   Durbin-Watson:                   0.044\n",
      "Prob(Omnibus):                  0.000   Jarque-Bera (JB):            18983.481\n",
      "Skew:                           5.111   Prob(JB):                         0.00\n",
      "Kurtosis:                      36.083   Cond. No.                         122.\n",
      "==============================================================================\n",
      "\n",
      "Notes:\n",
      "[1] Standard Errors assume that the covariance matrix of the errors is correctly specified.\n"
     ]
    }
   ],
   "source": [
    "filtered_users_df = users_df.dropna(subset=['followers', 'bio_length'])\n",
    "\n",
    "y = filtered_users_df['followers']\n",
    "X = sm.add_constant(filtered_users_df['bio_length'])\n",
    "\n",
    "bio_model = sm.OLS(y, X).fit()\n",
    "print(bio_model.summary())"
   ]
  },
  {
   "cell_type": "code",
   "execution_count": 19,
   "metadata": {},
   "outputs": [
    {
     "name": "stdout",
     "output_type": "stream",
     "text": [
      "Ans 14 : Top 5 users who created most repositories on weekends: qnighy, h6ah4i, takahashim, suzuki-shunsuke, kevincobain2000\n"
     ]
    }
   ],
   "source": [
    "# 14. Users who created the most repositories on weekends (UTC)\n",
    "repos_df['created_at'] = pd.to_datetime(repos_df['created_at']) \n",
    "repos_df['created_on_weekend'] = repos_df['created_at'].dt.dayofweek >= 5  \n",
    "weekend_repos = repos_df[repos_df['created_on_weekend']]\n",
    "top_users_weekend = weekend_repos['login'].value_counts().head(5).index.tolist()\n",
    "print(f\"Ans 14 : Top 5 users who created most repositories on weekends: {', '.join(top_users_weekend)}\")"
   ]
  },
  {
   "cell_type": "code",
   "execution_count": 20,
   "metadata": {},
   "outputs": [
    {
     "name": "stdout",
     "output_type": "stream",
     "text": [
      "Ans 15 : Difference in email fractions (hireable - non-hireable): nan\n"
     ]
    }
   ],
   "source": [
    "# 15. Difference in email fractions for hireable and non-hireable users\n",
    "fraction_email_hireable = users_df[users_df['hireable'] == True]['email'].notna().mean()\n",
    "fraction_email_non_hireable = users_df[users_df['hireable'] == False]['email'].notna().mean()\n",
    "email_fraction_difference = fraction_email_hireable - fraction_email_non_hireable\n",
    "print(f\"Ans 15 : Difference in email fractions (hireable - non-hireable): {email_fraction_difference:.3f}\")"
   ]
  },
  {
   "cell_type": "code",
   "execution_count": 21,
   "metadata": {},
   "outputs": [
    {
     "name": "stdout",
     "output_type": "stream",
     "text": [
      "Ans 16 : Most common surname: Tanaka with 5 users\n"
     ]
    }
   ],
   "source": [
    "\n",
    "# 16. Most common surname\n",
    "users_df['surname'] = users_df['name'].str.split().str[-1]\n",
    "common_surnames = users_df['surname'].value_counts()\n",
    "most_common_surname = common_surnames.idxmax()\n",
    "most_common_surname_count = common_surnames.max()\n",
    "print(f\"Ans 16 : Most common surname: {most_common_surname} with {most_common_surname_count} users\")"
   ]
  }
 ],
 "metadata": {
  "kernelspec": {
   "display_name": ".venv",
   "language": "python",
   "name": "python3"
  },
  "language_info": {
   "codemirror_mode": {
    "name": "ipython",
    "version": 3
   },
   "file_extension": ".py",
   "mimetype": "text/x-python",
   "name": "python",
   "nbconvert_exporter": "python",
   "pygments_lexer": "ipython3",
   "version": "3.11.9"
  }
 },
 "nbformat": 4,
 "nbformat_minor": 2
}
